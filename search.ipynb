{
 "cells": [
  {
   "cell_type": "code",
   "execution_count": 31,
   "metadata": {},
   "outputs": [],
   "source": [
    "from PIL import Image\n",
    "import pytesseract\n",
    "import numpy as np\n",
    "import pandas as pd\n",
    "import os\n",
    "\n",
    "pd.set_option('display.max_rows',1000)"
   ]
  },
  {
   "cell_type": "code",
   "execution_count": 2,
   "metadata": {},
   "outputs": [],
   "source": [
    "def getFileNames(infolder):\n",
    "    filenames = os.listdir(infolder)\n",
    "    filenames = [file for file in filenames if '.tif' in file]\n",
    "    filenames = [file for file in filenames if '.tif:Zone' not in file]\n",
    "    filenames.sort()\n",
    "    return filenames"
   ]
  },
  {
   "cell_type": "code",
   "execution_count": 3,
   "metadata": {},
   "outputs": [],
   "source": [
    "folder_name = 'untouched/CIAUFOCD-FULL-UNTOUCHED/'\n",
    "filenames = getFileNames(folder_name)"
   ]
  },
  {
   "cell_type": "code",
   "execution_count": 4,
   "metadata": {},
   "outputs": [],
   "source": [
    "txt_list = []\n",
    "for file_name in filenames:\n",
    "    img = Image.open(folder_name+file_name)\n",
    "    img_array = np.array(img)\n",
    "    img_text = pytesseract.image_to_string(img_array)\n",
    "    txt_list.append(img_text)"
   ]
  },
  {
   "cell_type": "code",
   "execution_count": 5,
   "metadata": {},
   "outputs": [],
   "source": [
    "df = pd.DataFrame(list(zip(filenames, txt_list)),\n",
    "               columns =['file_name', 'file_text'])\n",
    "df = df.reset_index()"
   ]
  },
  {
   "cell_type": "code",
   "execution_count": 6,
   "metadata": {},
   "outputs": [],
   "source": [
    "df.to_pickle(\"df.pickle\")"
   ]
  },
  {
   "cell_type": "code",
   "execution_count": 7,
   "metadata": {},
   "outputs": [],
   "source": [
    "df = pd.read_pickle(\"df.pickle\")"
   ]
  },
  {
   "cell_type": "code",
   "execution_count": 55,
   "metadata": {},
   "outputs": [
    {
     "data": {
      "text/html": [
       "<div>\n",
       "<style scoped>\n",
       "    .dataframe tbody tr th:only-of-type {\n",
       "        vertical-align: middle;\n",
       "    }\n",
       "\n",
       "    .dataframe tbody tr th {\n",
       "        vertical-align: top;\n",
       "    }\n",
       "\n",
       "    .dataframe thead th {\n",
       "        text-align: right;\n",
       "    }\n",
       "</style>\n",
       "<table border=\"1\" class=\"dataframe\">\n",
       "  <thead>\n",
       "    <tr style=\"text-align: right;\">\n",
       "      <th></th>\n",
       "      <th>index</th>\n",
       "      <th>file_name</th>\n",
       "      <th>file_text</th>\n",
       "    </tr>\n",
       "  </thead>\n",
       "  <tbody>\n",
       "    <tr>\n",
       "      <th>42</th>\n",
       "      <td>42</td>\n",
       "      <td>C05515711.tif</td>\n",
       "      <td>C00015284\\n\\nf\\n|\\ni\\ni\\n\\nQO:\\n\\ni\\n\\n1\\n1\\ni...</td>\n",
       "    </tr>\n",
       "    <tr>\n",
       "      <th>276</th>\n",
       "      <td>276</td>\n",
       "      <td>C05516574.tif</td>\n",
       "      <td>\\n\\nC00121397\\n\\nUNCLASSIFIED\\n\\nPAGE : 0022\\...</td>\n",
       "    </tr>\n",
       "    <tr>\n",
       "      <th>321</th>\n",
       "      <td>321</td>\n",
       "      <td>C05516643.tif</td>\n",
       "      <td>\\n\\n‘C00174678\\n\\nPage: 1 of 28\\nUNCLASSIFIED...</td>\n",
       "    </tr>\n",
       "    <tr>\n",
       "      <th>357</th>\n",
       "      <td>357</td>\n",
       "      <td>C05516690.tif</td>\n",
       "      <td>\\n\\nC00174878\\n\\nPage: 11 of 18\\nUNCLASSIFIED...</td>\n",
       "    </tr>\n",
       "    <tr>\n",
       "      <th>380</th>\n",
       "      <td>380</td>\n",
       "      <td>C05516713.tif</td>\n",
       "      <td>C00175454\\n\\nCLAS\\nCLAS\\nAFSN\\nDDAT\\nSLIN\\n\\nS...</td>\n",
       "    </tr>\n",
       "    <tr>\n",
       "      <th>439</th>\n",
       "      <td>439</td>\n",
       "      <td>C05516795.tif</td>\n",
       "      <td>C00175553\\n\\nCLAS\\nCLAS\\nAFSN\\nSLIN\\nCITS\\nFRO...</td>\n",
       "    </tr>\n",
       "    <tr>\n",
       "      <th>458</th>\n",
       "      <td>458</td>\n",
       "      <td>C05517466.tif</td>\n",
       "      <td>| ‘C00175579\\n\\nPage: 70 of 98\\nUNCLASSIFIED\\n...</td>\n",
       "    </tr>\n",
       "    <tr>\n",
       "      <th>558</th>\n",
       "      <td>558</td>\n",
       "      <td>C05517679.tif</td>\n",
       "      <td>\\n\\n~C00207032\\n\\nUNCLAS 3L/PMU STV TAB/SU AC...</td>\n",
       "    </tr>\n",
       "    <tr>\n",
       "      <th>565</th>\n",
       "      <td>565</td>\n",
       "      <td>C05517687.tif</td>\n",
       "      <td>\\n\\nC00207040\\nUNCLAS 3Z/LD PMU TAB\\nxxx BEGI...</td>\n",
       "    </tr>\n",
       "    <tr>\n",
       "      <th>570</th>\n",
       "      <td>570</td>\n",
       "      <td>C05517692.tif</td>\n",
       "      <td>nee terse ener tetera ON A RA ER At A\\n\\n \\n\\n...</td>\n",
       "    </tr>\n",
       "    <tr>\n",
       "      <th>629</th>\n",
       "      <td>629</td>\n",
       "      <td>C05517761.tif</td>\n",
       "      <td>C00386418\\n\\n*** Document 199 of 54 ~.c FBIS *...</td>\n",
       "    </tr>\n",
       "    <tr>\n",
       "      <th>635</th>\n",
       "      <td>635</td>\n",
       "      <td>C05517787.tif</td>\n",
       "      <td>\\n\\nCQ0386429\\n\\n*** Document 36 of 54 £.. FB...</td>\n",
       "    </tr>\n",
       "    <tr>\n",
       "      <th>668</th>\n",
       "      <td>668</td>\n",
       "      <td>C05517823.tif</td>\n",
       "      <td>\\n\\nC00779618\\n\\nx Posupent 22 of 25 for FBS5...</td>\n",
       "    </tr>\n",
       "    <tr>\n",
       "      <th>693</th>\n",
       "      <td>693</td>\n",
       "      <td>C05517849.tif</td>\n",
       "      <td>C00779655\\n\\n*** Document 12 of 19 for FBS4 **...</td>\n",
       "    </tr>\n",
       "    <tr>\n",
       "      <th>695</th>\n",
       "      <td>695</td>\n",
       "      <td>C05517851.tif</td>\n",
       "      <td>C00779656\\n\\n*** Document 14 of 19 for FBS4 **...</td>\n",
       "    </tr>\n",
       "  </tbody>\n",
       "</table>\n",
       "</div>"
      ],
      "text/plain": [
       "     index      file_name                                          file_text\n",
       "42      42  C05515711.tif  C00015284\\n\\nf\\n|\\ni\\ni\\n\\nQO:\\n\\ni\\n\\n1\\n1\\ni...\n",
       "276    276  C05516574.tif   \\n\\nC00121397\\n\\nUNCLASSIFIED\\n\\nPAGE : 0022\\...\n",
       "321    321  C05516643.tif   \\n\\n‘C00174678\\n\\nPage: 1 of 28\\nUNCLASSIFIED...\n",
       "357    357  C05516690.tif   \\n\\nC00174878\\n\\nPage: 11 of 18\\nUNCLASSIFIED...\n",
       "380    380  C05516713.tif  C00175454\\n\\nCLAS\\nCLAS\\nAFSN\\nDDAT\\nSLIN\\n\\nS...\n",
       "439    439  C05516795.tif  C00175553\\n\\nCLAS\\nCLAS\\nAFSN\\nSLIN\\nCITS\\nFRO...\n",
       "458    458  C05517466.tif  | ‘C00175579\\n\\nPage: 70 of 98\\nUNCLASSIFIED\\n...\n",
       "558    558  C05517679.tif   \\n\\n~C00207032\\n\\nUNCLAS 3L/PMU STV TAB/SU AC...\n",
       "565    565  C05517687.tif   \\n\\nC00207040\\nUNCLAS 3Z/LD PMU TAB\\nxxx BEGI...\n",
       "570    570  C05517692.tif  nee terse ener tetera ON A RA ER At A\\n\\n \\n\\n...\n",
       "629    629  C05517761.tif  C00386418\\n\\n*** Document 199 of 54 ~.c FBIS *...\n",
       "635    635  C05517787.tif   \\n\\nCQ0386429\\n\\n*** Document 36 of 54 £.. FB...\n",
       "668    668  C05517823.tif   \\n\\nC00779618\\n\\nx Posupent 22 of 25 for FBS5...\n",
       "693    693  C05517849.tif  C00779655\\n\\n*** Document 12 of 19 for FBS4 **...\n",
       "695    695  C05517851.tif  C00779656\\n\\n*** Document 14 of 19 for FBS4 **..."
      ]
     },
     "execution_count": 55,
     "metadata": {},
     "output_type": "execute_result"
    }
   ],
   "source": [
    "search_text = \"alien\"\n",
    "df[df[\"file_text\"].str.lower().str.contains(search_text.lower(), na=False)]"
   ]
  }
 ],
 "metadata": {
  "kernelspec": {
   "display_name": "Python 3",
   "language": "python",
   "name": "python3"
  },
  "language_info": {
   "codemirror_mode": {
    "name": "ipython",
    "version": 3
   },
   "file_extension": ".py",
   "mimetype": "text/x-python",
   "name": "python",
   "nbconvert_exporter": "python",
   "pygments_lexer": "ipython3",
   "version": "3.7.10"
  }
 },
 "nbformat": 4,
 "nbformat_minor": 5
}
