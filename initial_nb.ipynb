{
 "cells": [
  {
   "cell_type": "code",
   "execution_count": 2,
   "id": "7567cf81",
   "metadata": {},
   "outputs": [
    {
     "ename": "ModuleNotFoundError",
     "evalue": "No module named 'PIL'",
     "output_type": "error",
     "traceback": [
      "\u001b[0;31m---------------------------------------------------------------------------\u001b[0m",
      "\u001b[0;31mModuleNotFoundError\u001b[0m                       Traceback (most recent call last)",
      "\u001b[0;32m<ipython-input-2-466c3b5b5849>\u001b[0m in \u001b[0;36m<module>\u001b[0;34m\u001b[0m\n\u001b[0;32m----> 1\u001b[0;31m \u001b[0;32mfrom\u001b[0m \u001b[0mPIL\u001b[0m \u001b[0;32mimport\u001b[0m \u001b[0mImage\u001b[0m\u001b[0;34m\u001b[0m\u001b[0;34m\u001b[0m\u001b[0m\n\u001b[0m\u001b[1;32m      2\u001b[0m \u001b[0;32mimport\u001b[0m \u001b[0mpytesseract\u001b[0m\u001b[0;34m\u001b[0m\u001b[0;34m\u001b[0m\u001b[0m\n\u001b[1;32m      3\u001b[0m \u001b[0;32mimport\u001b[0m \u001b[0mnumpy\u001b[0m \u001b[0;32mas\u001b[0m \u001b[0mnp\u001b[0m\u001b[0;34m\u001b[0m\u001b[0;34m\u001b[0m\u001b[0m\n\u001b[1;32m      4\u001b[0m \u001b[0;32mimport\u001b[0m \u001b[0mcv2\u001b[0m\u001b[0;34m\u001b[0m\u001b[0;34m\u001b[0m\u001b[0m\n",
      "\u001b[0;31mModuleNotFoundError\u001b[0m: No module named 'PIL'"
     ]
    }
   ],
   "source": [
    "from PIL import Image\n",
    "import pytesseract\n",
    "import numpy as np\n",
    "import cv2"
   ]
  },
  {
   "cell_type": "markdown",
   "id": "fe0e42fb",
   "metadata": {},
   "source": [
    "### Basics"
   ]
  },
  {
   "cell_type": "code",
   "execution_count": null,
   "id": "1c02fc6a",
   "metadata": {},
   "outputs": [],
   "source": [
    "# Import image\n",
    "folder_name = 'untouched/CIAUFOCD-FULL-UNTOUCHED/'\n",
    "file_name = 'C05516003.tif'\n",
    "img = Image.open(folder_name+file_name)"
   ]
  },
  {
   "cell_type": "code",
   "execution_count": null,
   "id": "8e595664",
   "metadata": {},
   "outputs": [],
   "source": [
    "# Show the image\n",
    "img"
   ]
  },
  {
   "cell_type": "code",
   "execution_count": null,
   "id": "3594347d",
   "metadata": {},
   "outputs": [],
   "source": [
    "# Convert image to array\n",
    "img_array = np.array(img)\n",
    "\n",
    "# OCR image to string\n",
    "img_text = pytesseract.image_to_string(img_array)\n",
    "img_text"
   ]
  },
  {
   "cell_type": "code",
   "execution_count": null,
   "id": "72c9e111",
   "metadata": {},
   "outputs": [],
   "source": [
    "# Save string as txt file\n",
    "with open('output.txt', 'w') as f:\n",
    "    f.write(img_text)"
   ]
  },
  {
   "cell_type": "markdown",
   "id": "f8ebce49",
   "metadata": {},
   "source": [
    "### Image cleanup"
   ]
  },
  {
   "cell_type": "code",
   "execution_count": null,
   "id": "dba9e915",
   "metadata": {},
   "outputs": [],
   "source": [
    "# Change data type for preprocessing\n",
    "img_array = np.array(img_array, dtype=np.uint8)\n",
    "\n",
    "# Build reference array of zeroes with same shape\n",
    "norm_img = np.zeros((img_array.shape[0], img_array.shape[1]))"
   ]
  },
  {
   "cell_type": "code",
   "execution_count": null,
   "id": "2c942668",
   "metadata": {},
   "outputs": [],
   "source": [
    "# Process the original array\n",
    "\n",
    "# Create new array to hold the processed image array\n",
    "img_array_proc = img_array\n",
    "\n",
    "# Normalize between 0 and 255\n",
    "img_array_proc = cv2.normalize(img_array_proc, norm_img, 0, 255, cv2.NORM_MINMAX)\n",
    "\n",
    "# Thresholds between 0 and 255\n",
    "img_array_proc = cv2.threshold(img_array_proc, 0, 255, cv2.THRESH_BINARY)[1]\n",
    "\n",
    "# Gaussian blur, kernel size (height, width) should be odd\n",
    "img_array_proc = cv2.GaussianBlur(img_array_proc, (15, 15), 0)"
   ]
  },
  {
   "cell_type": "code",
   "execution_count": null,
   "id": "0fb2ab03",
   "metadata": {},
   "outputs": [],
   "source": [
    "# Show processed image\n",
    "img_proc = Image.fromarray(img_array_proc)\n",
    "img_proc"
   ]
  },
  {
   "cell_type": "code",
   "execution_count": null,
   "id": "104db6d2",
   "metadata": {},
   "outputs": [],
   "source": [
    "# Show OCR result from processed image\n",
    "img_proc_text = pytesseract.image_to_string(img_array_proc)\n",
    "img_proc_text"
   ]
  },
  {
   "cell_type": "code",
   "execution_count": null,
   "id": "abf6c5cb",
   "metadata": {},
   "outputs": [],
   "source": [
    "# Check if the processing did anything\n",
    "img_proc_text == img_text"
   ]
  }
 ],
 "metadata": {
  "kernelspec": {
   "display_name": "Python 3",
   "language": "python",
   "name": "python3"
  },
  "language_info": {
   "codemirror_mode": {
    "name": "ipython",
    "version": 3
   },
   "file_extension": ".py",
   "mimetype": "text/x-python",
   "name": "python",
   "nbconvert_exporter": "python",
   "pygments_lexer": "ipython3",
   "version": "3.9.5"
  }
 },
 "nbformat": 4,
 "nbformat_minor": 5
}
